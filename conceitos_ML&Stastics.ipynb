{
 "cells": [
  {
   "cell_type": "markdown",
   "id": "863ba367",
   "metadata": {},
   "source": [
    "# Introdution a Statical Learning"
   ]
  },
  {
   "cell_type": "markdown",
   "id": "976d5f1d",
   "metadata": {},
   "source": [
    "### introdrução"
   ]
  },
  {
   "cell_type": "markdown",
   "id": "711850f0",
   "metadata": {},
   "source": [
    "### Capítulo  : Statstical Learning"
   ]
  },
  {
   "cell_type": "markdown",
   "id": "9a6624f7",
   "metadata": {},
   "source": [
    "#### error irredutível - irreducible error"
   ]
  },
  {
   "cell_type": "markdown",
   "id": "e8651ba4",
   "metadata": {},
   "source": [
    "nossa previsão\n",
    "ainda teria algum erro nele! Isso ocorre porque Y também é uma função de\n",
    ", que, por definição, não pode ser previsto usando X. Portanto, a variabilidade\n",
    "associado também afeta a precisão de nossas previsões."
   ]
  },
  {
   "cell_type": "code",
   "execution_count": null,
   "id": "6620feae",
   "metadata": {},
   "outputs": [],
   "source": []
  },
  {
   "cell_type": "code",
   "execution_count": null,
   "id": "cc031747",
   "metadata": {},
   "outputs": [],
   "source": []
  },
  {
   "cell_type": "markdown",
   "id": "2590b955",
   "metadata": {
    "heading_collapsed": true
   },
   "source": [
    "# Clusters: Verdadeiro ou Falso"
   ]
  },
  {
   "cell_type": "markdown",
   "id": "b85da66a",
   "metadata": {
    "hidden": true
   },
   "source": [
    "## Os algoritmos hierárquicos single e complet linkage tem complexidade computacional O(n) e, por este motivo, são aconselhados para grandes quantidades de dados.\t "
   ]
  },
  {
   "cell_type": "markdown",
   "id": "d956e32c",
   "metadata": {
    "hidden": true
   },
   "source": [
    "### Falso\n",
    "Para mínima árvore de decisão mínima, ele tem complexidade Operacional indicado maior que indicado na questão a partir pela ordem de N²"
   ]
  },
  {
   "cell_type": "markdown",
   "id": "2d0a3824",
   "metadata": {
    "hidden": true
   },
   "source": [
    "## O algoritmo Bisecting K-Means é um exemplo de algoritmo hierárquico do tipo top-down (divisivos)."
   ]
  },
  {
   "cell_type": "markdown",
   "id": "00543740",
   "metadata": {
    "hidden": true
   },
   "source": [
    "### Verdadeiro"
   ]
  },
  {
   "cell_type": "markdown",
   "id": "5dcac6a1",
   "metadata": {
    "hidden": true
   },
   "source": [
    "O algoritmo  Bisecting k-means  consiste  em uma  variação hierárquica do  algoritmo  k-means,  que  em  cada  iteração,  seleciona  um  grupo e  o  divide,  de  forma  a  gerar  umahierarquia [Fontana e Naldi, 2009]."
   ]
  },
  {
   "cell_type": "code",
   "execution_count": null,
   "id": "0d841c63",
   "metadata": {
    "hidden": true
   },
   "outputs": [],
   "source": []
  },
  {
   "cell_type": "markdown",
   "id": "2b84a944",
   "metadata": {
    "hidden": true
   },
   "source": [
    "## Sob a perspectiva de otimização, o algoritmo K-Means pode ser escrito como um minimizador da distância intra-cluster."
   ]
  },
  {
   "cell_type": "markdown",
   "id": "0fd81e65",
   "metadata": {
    "hidden": true
   },
   "source": [
    "## O algoritmo K-Medians é menos sensível a outliers e tem menor complexidade computacional que o algoritmo K-Means."
   ]
  },
  {
   "cell_type": "markdown",
   "id": "44ab917f",
   "metadata": {
    "hidden": true
   },
   "source": [
    "## A distância Manhattan (ou city-block) tem a mesma formulação da distância Minkowski com grau 2 (p=2).\t "
   ]
  },
  {
   "cell_type": "markdown",
   "id": "0bb5f615",
   "metadata": {
    "hidden": true
   },
   "source": [
    "## A distância Mahalanobis tem um alto custo computacional devido o cálculo da inversa da matriz de covariância."
   ]
  },
  {
   "cell_type": "markdown",
   "id": "341ca5c2",
   "metadata": {
    "hidden": true
   },
   "source": [
    "## No algoritmo DBScan, o resultado final é pouco sensível aos seus hiper-parâmetros (i)raio e (ii)número mínimo de vizinhos.\t "
   ]
  },
  {
   "cell_type": "markdown",
   "id": "4d25fb29",
   "metadata": {
    "hidden": true
   },
   "source": [
    "## os algoritmos baseados em densidade, o conceito de partição rígida não é obedecido devido à detecção de outliers que não são agrupados.\t "
   ]
  },
  {
   "cell_type": "markdown",
   "id": "f0ba7bc8",
   "metadata": {
    "hidden": true
   },
   "source": [
    "## A soma das distâncias dos pontos para seus respectivos centroides pode ser utilizada para determinar o número de clusters (este critério é popularmente conhecido como joelho ou cotovelo)."
   ]
  },
  {
   "cell_type": "markdown",
   "id": "e379178a",
   "metadata": {
    "hidden": true
   },
   "source": [
    "## A métrica \"Silhueta Simplificada\" tem complexidade computacional linear e é uma boa aproximação para a métrica \"Silhueta\". "
   ]
  },
  {
   "cell_type": "code",
   "execution_count": null,
   "id": "8ec2933b",
   "metadata": {
    "hidden": true
   },
   "outputs": [],
   "source": []
  }
 ],
 "metadata": {
  "kernelspec": {
   "display_name": "Python 3 (ipykernel)",
   "language": "python",
   "name": "python3"
  },
  "language_info": {
   "codemirror_mode": {
    "name": "ipython",
    "version": 3
   },
   "file_extension": ".py",
   "mimetype": "text/x-python",
   "name": "python",
   "nbconvert_exporter": "python",
   "pygments_lexer": "ipython3",
   "version": "3.9.5"
  },
  "toc": {
   "base_numbering": 1,
   "nav_menu": {},
   "number_sections": true,
   "sideBar": true,
   "skip_h1_title": false,
   "title_cell": "Table of Contents",
   "title_sidebar": "Contents",
   "toc_cell": false,
   "toc_position": {
    "height": "calc(100% - 180px)",
    "left": "10px",
    "top": "150px",
    "width": "258.797px"
   },
   "toc_section_display": true,
   "toc_window_display": true
  }
 },
 "nbformat": 4,
 "nbformat_minor": 5
}
