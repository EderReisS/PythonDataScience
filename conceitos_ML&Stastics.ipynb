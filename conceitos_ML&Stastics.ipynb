{
 "cells": [
  {
   "cell_type": "markdown",
   "id": "2590b955",
   "metadata": {},
   "source": [
    "# Clusters: Verdadeiro ou Falso"
   ]
  },
  {
   "cell_type": "markdown",
   "id": "b85da66a",
   "metadata": {},
   "source": [
    "## Os algoritmos hierárquicos single e complet linkage tem complexidade computacional O(n) e, por este motivo, são aconselhados para grandes quantidades de dados.\t "
   ]
  },
  {
   "cell_type": "markdown",
   "id": "2d0a3824",
   "metadata": {},
   "source": [
    "## O algoritmo Bisecting K-Means é um exemplo de algoritmo hierárquico do tipo top-down (divisivos)."
   ]
  },
  {
   "cell_type": "markdown",
   "id": "5dcac6a1",
   "metadata": {},
   "source": [
    "Falso: ele exemplo de algoritmo não hieráquico???"
   ]
  },
  {
   "cell_type": "markdown",
   "id": "2b84a944",
   "metadata": {},
   "source": [
    "## Sob a perspectiva de otimização, o algoritmo K-Means pode ser escrito como um minimizador da distância intra-cluster."
   ]
  }
 ],
 "metadata": {
  "kernelspec": {
   "display_name": "Python 3 (ipykernel)",
   "language": "python",
   "name": "python3"
  },
  "language_info": {
   "codemirror_mode": {
    "name": "ipython",
    "version": 3
   },
   "file_extension": ".py",
   "mimetype": "text/x-python",
   "name": "python",
   "nbconvert_exporter": "python",
   "pygments_lexer": "ipython3",
   "version": "3.9.5"
  },
  "toc": {
   "base_numbering": 1,
   "nav_menu": {},
   "number_sections": true,
   "sideBar": true,
   "skip_h1_title": false,
   "title_cell": "Table of Contents",
   "title_sidebar": "Contents",
   "toc_cell": false,
   "toc_position": {},
   "toc_section_display": true,
   "toc_window_display": true
  }
 },
 "nbformat": 4,
 "nbformat_minor": 5
}
