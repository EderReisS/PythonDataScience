{
 "cells": [
  {
   "cell_type": "markdown",
   "id": "f524f4de",
   "metadata": {
    "toc": true
   },
   "source": [
    "<h1>Table of Contents<span class=\"tocSkip\"></span></h1>\n",
    "<div class=\"toc\"><ul class=\"toc-item\"><li><span><a href=\"#Declaração-de-bibliotecas\" data-toc-modified-id=\"Declaração-de-bibliotecas-1\"><span class=\"toc-item-num\">1&nbsp;&nbsp;</span>Declaração de bibliotecas</a></span></li><li><span><a href=\"#Análise-exploratória-dos-dados\" data-toc-modified-id=\"Análise-exploratória-dos-dados-2\"><span class=\"toc-item-num\">2&nbsp;&nbsp;</span>Análise exploratória dos dados</a></span><ul class=\"toc-item\"><li><span><a href=\"#Importação-dos-dados\" data-toc-modified-id=\"Importação-dos-dados-2.1\"><span class=\"toc-item-num\">2.1&nbsp;&nbsp;</span>Importação dos dados</a></span></li><li><span><a href=\"#Verificação-dos-dados\" data-toc-modified-id=\"Verificação-dos-dados-2.2\"><span class=\"toc-item-num\">2.2&nbsp;&nbsp;</span>Verificação dos dados</a></span><ul class=\"toc-item\"><li><span><a href=\"#Tamanho\" data-toc-modified-id=\"Tamanho-2.2.1\"><span class=\"toc-item-num\">2.2.1&nbsp;&nbsp;</span>Tamanho</a></span></li><li><span><a href=\"#Valores-vazios\" data-toc-modified-id=\"Valores-vazios-2.2.2\"><span class=\"toc-item-num\">2.2.2&nbsp;&nbsp;</span>Valores vazios</a></span></li></ul></li><li><span><a href=\"#Verificação-da-primeira-coluna\" data-toc-modified-id=\"Verificação-da-primeira-coluna-2.3\"><span class=\"toc-item-num\">2.3&nbsp;&nbsp;</span>Verificação da primeira coluna</a></span><ul class=\"toc-item\"><li><span><a href=\"#nome-da-coluna\" data-toc-modified-id=\"nome-da-coluna-2.3.1\"><span class=\"toc-item-num\">2.3.1&nbsp;&nbsp;</span>nome da coluna</a></span></li><li><span><a href=\"#Categorização\" data-toc-modified-id=\"Categorização-2.3.2\"><span class=\"toc-item-num\">2.3.2&nbsp;&nbsp;</span>Categorização</a></span></li><li><span><a href=\"#Ponto-de-ajuste\" data-toc-modified-id=\"Ponto-de-ajuste-2.3.3\"><span class=\"toc-item-num\">2.3.3&nbsp;&nbsp;</span>Ponto de ajuste</a></span></li></ul></li><li><span><a href=\"#Verificação-da-segunda-coluna\" data-toc-modified-id=\"Verificação-da-segunda-coluna-2.4\"><span class=\"toc-item-num\">2.4&nbsp;&nbsp;</span>Verificação da segunda coluna</a></span><ul class=\"toc-item\"><li><span><a href=\"#nome-da-coluna\" data-toc-modified-id=\"nome-da-coluna-2.4.1\"><span class=\"toc-item-num\">2.4.1&nbsp;&nbsp;</span>nome da coluna</a></span></li><li><span><a href=\"#Categorização\" data-toc-modified-id=\"Categorização-2.4.2\"><span class=\"toc-item-num\">2.4.2&nbsp;&nbsp;</span>Categorização</a></span></li><li><span><a href=\"#Ponto-de-ajuste\" data-toc-modified-id=\"Ponto-de-ajuste-2.4.3\"><span class=\"toc-item-num\">2.4.3&nbsp;&nbsp;</span>Ponto de ajuste</a></span></li></ul></li><li><span><a href=\"#Verificação-da-terceira-coluna\" data-toc-modified-id=\"Verificação-da-terceira-coluna-2.5\"><span class=\"toc-item-num\">2.5&nbsp;&nbsp;</span>Verificação da terceira coluna</a></span><ul class=\"toc-item\"><li><span><a href=\"#nome-da-coluna\" data-toc-modified-id=\"nome-da-coluna-2.5.1\"><span class=\"toc-item-num\">2.5.1&nbsp;&nbsp;</span>nome da coluna</a></span></li><li><span><a href=\"#Categorização\" data-toc-modified-id=\"Categorização-2.5.2\"><span class=\"toc-item-num\">2.5.2&nbsp;&nbsp;</span>Categorização</a></span></li><li><span><a href=\"#Ponto-de-ajuste\" data-toc-modified-id=\"Ponto-de-ajuste-2.5.3\"><span class=\"toc-item-num\">2.5.3&nbsp;&nbsp;</span>Ponto de ajuste</a></span></li></ul></li><li><span><a href=\"#Verificação-da-quarta-coluna\" data-toc-modified-id=\"Verificação-da-quarta-coluna-2.6\"><span class=\"toc-item-num\">2.6&nbsp;&nbsp;</span>Verificação da quarta coluna</a></span><ul class=\"toc-item\"><li><span><a href=\"#nome-da-coluna\" data-toc-modified-id=\"nome-da-coluna-2.6.1\"><span class=\"toc-item-num\">2.6.1&nbsp;&nbsp;</span>nome da coluna</a></span></li><li><span><a href=\"#Categorização\" data-toc-modified-id=\"Categorização-2.6.2\"><span class=\"toc-item-num\">2.6.2&nbsp;&nbsp;</span>Categorização</a></span></li></ul></li><li><span><a href=\"#Verificação-da-quinta-coluna\" data-toc-modified-id=\"Verificação-da-quinta-coluna-2.7\"><span class=\"toc-item-num\">2.7&nbsp;&nbsp;</span>Verificação da quinta coluna</a></span><ul class=\"toc-item\"><li><span><a href=\"#nome-da-coluna\" data-toc-modified-id=\"nome-da-coluna-2.7.1\"><span class=\"toc-item-num\">2.7.1&nbsp;&nbsp;</span>nome da coluna</a></span></li><li><span><a href=\"#Categorização\" data-toc-modified-id=\"Categorização-2.7.2\"><span class=\"toc-item-num\">2.7.2&nbsp;&nbsp;</span>Categorização</a></span></li></ul></li></ul></li></ul></div>"
   ]
  },
  {
   "cell_type": "markdown",
   "id": "11ea3e07",
   "metadata": {},
   "source": [
    "# Declaração de bibliotecas"
   ]
  },
  {
   "cell_type": "markdown",
   "id": "78456073",
   "metadata": {},
   "source": [
    "O Seaborn é uma biblioteca de visualização de dados do Python baseado no Matplotlib.\n"
   ]
  },
  {
   "cell_type": "code",
   "execution_count": 1,
   "id": "f4627922",
   "metadata": {
    "ExecuteTime": {
     "end_time": "2021-08-21T01:32:35.745709Z",
     "start_time": "2021-08-21T01:32:05.134045Z"
    }
   },
   "outputs": [],
   "source": [
    "import pandas as pd\n",
    "import seaborn as srn\n",
    "import statistics  as sts"
   ]
  },
  {
   "cell_type": "markdown",
   "id": "e8d08c55",
   "metadata": {},
   "source": [
    "# Análise exploratória dos dados"
   ]
  },
  {
   "cell_type": "markdown",
   "id": "aca37da6",
   "metadata": {},
   "source": [
    "## Importação dos dados"
   ]
  },
  {
   "cell_type": "code",
   "execution_count": 7,
   "id": "9e723507",
   "metadata": {
    "ExecuteTime": {
     "end_time": "2021-08-21T01:40:41.292389Z",
     "start_time": "2021-08-21T01:40:41.248415Z"
    }
   },
   "outputs": [
    {
     "data": {
      "text/html": [
       "<div>\n",
       "<style scoped>\n",
       "    .dataframe tbody tr th:only-of-type {\n",
       "        vertical-align: middle;\n",
       "    }\n",
       "\n",
       "    .dataframe tbody tr th {\n",
       "        vertical-align: top;\n",
       "    }\n",
       "\n",
       "    .dataframe thead th {\n",
       "        text-align: right;\n",
       "    }\n",
       "</style>\n",
       "<table border=\"1\" class=\"dataframe\">\n",
       "  <thead>\n",
       "    <tr style=\"text-align: right;\">\n",
       "      <th></th>\n",
       "      <th>Aparencia</th>\n",
       "      <th>Temperatura</th>\n",
       "      <th>Umidade</th>\n",
       "      <th>Vento</th>\n",
       "      <th>Jogar</th>\n",
       "    </tr>\n",
       "  </thead>\n",
       "  <tbody>\n",
       "    <tr>\n",
       "      <th>0</th>\n",
       "      <td>sol</td>\n",
       "      <td>85</td>\n",
       "      <td>85.0</td>\n",
       "      <td>FALSO</td>\n",
       "      <td>nao</td>\n",
       "    </tr>\n",
       "    <tr>\n",
       "      <th>1</th>\n",
       "      <td>sol</td>\n",
       "      <td>80</td>\n",
       "      <td>90.0</td>\n",
       "      <td>VERDADEIRO</td>\n",
       "      <td>nao</td>\n",
       "    </tr>\n",
       "    <tr>\n",
       "      <th>2</th>\n",
       "      <td>nublado</td>\n",
       "      <td>83</td>\n",
       "      <td>86.0</td>\n",
       "      <td>FALSO</td>\n",
       "      <td>sim</td>\n",
       "    </tr>\n",
       "    <tr>\n",
       "      <th>3</th>\n",
       "      <td>chuva</td>\n",
       "      <td>70</td>\n",
       "      <td>NaN</td>\n",
       "      <td>FALSO</td>\n",
       "      <td>sim</td>\n",
       "    </tr>\n",
       "    <tr>\n",
       "      <th>4</th>\n",
       "      <td>chuva</td>\n",
       "      <td>68</td>\n",
       "      <td>80.0</td>\n",
       "      <td>FALSO</td>\n",
       "      <td>sim</td>\n",
       "    </tr>\n",
       "  </tbody>\n",
       "</table>\n",
       "</div>"
      ],
      "text/plain": [
       "  Aparencia  Temperatura  Umidade       Vento Jogar\n",
       "0       sol           85     85.0       FALSO   nao\n",
       "1       sol           80     90.0  VERDADEIRO   nao\n",
       "2   nublado           83     86.0       FALSO   sim\n",
       "3     chuva           70      NaN       FALSO   sim\n",
       "4     chuva           68     80.0       FALSO   sim"
      ]
     },
     "execution_count": 7,
     "metadata": {},
     "output_type": "execute_result"
    }
   ],
   "source": [
    "df=pd.read_csv('input_Files/tempo-v.limpeza_de_dados.csv',sep=';')\n",
    "df.head()"
   ]
  },
  {
   "cell_type": "markdown",
   "id": "7fb70865",
   "metadata": {},
   "source": [
    "Lista de colunas"
   ]
  },
  {
   "cell_type": "code",
   "execution_count": 16,
   "id": "f753d0e1",
   "metadata": {
    "ExecuteTime": {
     "end_time": "2021-08-21T01:50:05.355612Z",
     "start_time": "2021-08-21T01:50:05.344618Z"
    }
   },
   "outputs": [],
   "source": [
    "col = list(df)"
   ]
  },
  {
   "cell_type": "markdown",
   "id": "8d2e3610",
   "metadata": {},
   "source": [
    "## Verificação dos dados"
   ]
  },
  {
   "cell_type": "markdown",
   "id": "a83fab69",
   "metadata": {},
   "source": [
    "### Tamanho"
   ]
  },
  {
   "cell_type": "code",
   "execution_count": 9,
   "id": "828672eb",
   "metadata": {
    "ExecuteTime": {
     "end_time": "2021-08-21T01:42:53.190786Z",
     "start_time": "2021-08-21T01:42:53.176795Z"
    }
   },
   "outputs": [
    {
     "data": {
      "text/plain": [
       "(14, 5)"
      ]
     },
     "execution_count": 9,
     "metadata": {},
     "output_type": "execute_result"
    }
   ],
   "source": [
    "df.shape"
   ]
  },
  {
   "cell_type": "markdown",
   "id": "93f3d305",
   "metadata": {},
   "source": [
    "### Valores vazios"
   ]
  },
  {
   "cell_type": "code",
   "execution_count": 11,
   "id": "27048160",
   "metadata": {
    "ExecuteTime": {
     "end_time": "2021-08-21T01:45:22.341348Z",
     "start_time": "2021-08-21T01:45:22.226976Z"
    }
   },
   "outputs": [
    {
     "data": {
      "text/plain": [
       "Aparencia      0\n",
       "Temperatura    0\n",
       "Umidade        1\n",
       "Vento          1\n",
       "Jogar          0\n",
       "dtype: int64"
      ]
     },
     "execution_count": 11,
     "metadata": {},
     "output_type": "execute_result"
    }
   ],
   "source": [
    "df.isnull().sum()"
   ]
  },
  {
   "cell_type": "markdown",
   "id": "8a1cd3a2",
   "metadata": {},
   "source": [
    "## Verificação da primeira coluna"
   ]
  },
  {
   "cell_type": "markdown",
   "id": "4e14979f",
   "metadata": {},
   "source": [
    "### nome da coluna"
   ]
  },
  {
   "cell_type": "code",
   "execution_count": 18,
   "id": "294eaa3a",
   "metadata": {
    "ExecuteTime": {
     "end_time": "2021-08-21T01:52:20.740630Z",
     "start_time": "2021-08-21T01:52:20.733636Z"
    }
   },
   "outputs": [
    {
     "data": {
      "text/plain": [
       "'Aparencia'"
      ]
     },
     "execution_count": 18,
     "metadata": {},
     "output_type": "execute_result"
    }
   ],
   "source": [
    "col[0]"
   ]
  },
  {
   "cell_type": "markdown",
   "id": "363663be",
   "metadata": {},
   "source": [
    "### Categorização"
   ]
  },
  {
   "cell_type": "code",
   "execution_count": 24,
   "id": "b1914699",
   "metadata": {
    "ExecuteTime": {
     "end_time": "2021-08-21T01:57:53.438336Z",
     "start_time": "2021-08-21T01:57:53.430338Z"
    }
   },
   "outputs": [],
   "source": [
    "categoria=  df.groupby([col[0]]).size()"
   ]
  },
  {
   "cell_type": "markdown",
   "id": "13303b22",
   "metadata": {},
   "source": [
    "visualização do categoria"
   ]
  },
  {
   "cell_type": "code",
   "execution_count": 25,
   "id": "4061391e",
   "metadata": {
    "ExecuteTime": {
     "end_time": "2021-08-21T01:57:57.793515Z",
     "start_time": "2021-08-21T01:57:55.816736Z"
    }
   },
   "outputs": [
    {
     "data": {
      "text/plain": [
       "<AxesSubplot:xlabel='Aparencia'>"
      ]
     },
     "execution_count": 25,
     "metadata": {},
     "output_type": "execute_result"
    },
    {
     "data": {
      "image/png": "[encoded data removed]",
      "text/plain": [
       "<Figure size 432x288 with 1 Axes>"
      ]
     },
     "metadata": {
      "needs_background": "light"
     },
     "output_type": "display_data"
    }
   ],
   "source": [
    "categoria.plot.bar(color = 'red')"
   ]
  },
  {
   "cell_type": "markdown",
   "id": "5c5db4b3",
   "metadata": {
    "ExecuteTime": {
     "end_time": "2021-08-21T02:06:42.959016Z",
     "start_time": "2021-08-21T02:06:42.942005Z"
    }
   },
   "source": [
    "### Ponto de ajuste"
   ]
  },
  {
   "cell_type": "markdown",
   "id": "6788fbda",
   "metadata": {},
   "source": [
    " - 'menos' não se trata de um dado válido de aparência, deverá ser alterado pelo valor da variável de maior moda por se tratar de objeto não numérico."
   ]
  },
  {
   "cell_type": "markdown",
   "id": "9f45cbb8",
   "metadata": {},
   "source": [
    "## Verificação da segunda coluna"
   ]
  },
  {
   "cell_type": "markdown",
   "id": "7caeae31",
   "metadata": {},
   "source": [
    "### nome da coluna"
   ]
  },
  {
   "cell_type": "code",
   "execution_count": 27,
   "id": "1f742582",
   "metadata": {
    "ExecuteTime": {
     "end_time": "2021-08-21T02:04:43.833490Z",
     "start_time": "2021-08-21T02:04:43.815486Z"
    }
   },
   "outputs": [
    {
     "data": {
      "text/plain": [
       "'Temperatura'"
      ]
     },
     "execution_count": 27,
     "metadata": {},
     "output_type": "execute_result"
    }
   ],
   "source": [
    "col[1]"
   ]
  },
  {
   "cell_type": "markdown",
   "id": "e8045dcb",
   "metadata": {},
   "source": [
    "### Categorização"
   ]
  },
  {
   "cell_type": "code",
   "execution_count": 28,
   "id": "916c9574",
   "metadata": {
    "ExecuteTime": {
     "end_time": "2021-08-21T02:04:48.273190Z",
     "start_time": "2021-08-21T02:04:48.261199Z"
    }
   },
   "outputs": [],
   "source": [
    "categoria=  df.groupby([col[1]]).size()"
   ]
  },
  {
   "cell_type": "code",
   "execution_count": 29,
   "id": "ddc890bd",
   "metadata": {
    "ExecuteTime": {
     "end_time": "2021-08-21T02:04:58.948891Z",
     "start_time": "2021-08-21T02:04:58.586175Z"
    }
   },
   "outputs": [
    {
     "data": {
      "text/plain": [
       "<AxesSubplot:xlabel='Temperatura'>"
      ]
     },
     "execution_count": 29,
     "metadata": {},
     "output_type": "execute_result"
    },
    {
     "data": {
      "image/png": "[encoded data removed]",
      "text/plain": [
       "<Figure size 432x288 with 1 Axes>"
      ]
     },
     "metadata": {
      "needs_background": "light"
     },
     "output_type": "display_data"
    }
   ],
   "source": [
    "categoria.plot.bar(color = 'red')"
   ]
  },
  {
   "cell_type": "markdown",
   "id": "833ae9e4",
   "metadata": {},
   "source": [
    "### Ponto de ajuste"
   ]
  },
  {
   "cell_type": "markdown",
   "id": "affa149c",
   "metadata": {},
   "source": [
    " - A temperatura possui um out-layer, pois não é concebível temperaura de mais 2000°F"
   ]
  },
  {
   "cell_type": "markdown",
   "id": "c29d5b25",
   "metadata": {},
   "source": [
    "## Verificação da terceira coluna"
   ]
  },
  {
   "cell_type": "markdown",
   "id": "380ed390",
   "metadata": {},
   "source": [
    "### nome da coluna"
   ]
  },
  {
   "cell_type": "code",
   "execution_count": 49,
   "id": "90743c16",
   "metadata": {
    "ExecuteTime": {
     "end_time": "2021-08-21T02:21:36.971780Z",
     "start_time": "2021-08-21T02:21:36.962784Z"
    }
   },
   "outputs": [
    {
     "data": {
      "text/plain": [
       "'Umidade'"
      ]
     },
     "execution_count": 49,
     "metadata": {},
     "output_type": "execute_result"
    }
   ],
   "source": [
    "col[2]"
   ]
  },
  {
   "cell_type": "markdown",
   "id": "eb589ce7",
   "metadata": {},
   "source": [
    "### Categorização"
   ]
  },
  {
   "cell_type": "code",
   "execution_count": 52,
   "id": "71b509cc",
   "metadata": {
    "ExecuteTime": {
     "end_time": "2021-08-21T02:23:04.199801Z",
     "start_time": "2021-08-21T02:23:04.185809Z"
    }
   },
   "outputs": [],
   "source": [
    "categoria=  df.groupby([col[2]]).size()"
   ]
  },
  {
   "cell_type": "code",
   "execution_count": 53,
   "id": "fc809b44",
   "metadata": {
    "ExecuteTime": {
     "end_time": "2021-08-21T02:23:08.732304Z",
     "start_time": "2021-08-21T02:23:08.431043Z"
    }
   },
   "outputs": [
    {
     "data": {
      "text/plain": [
       "<AxesSubplot:xlabel='Umidade'>"
      ]
     },
     "execution_count": 53,
     "metadata": {},
     "output_type": "execute_result"
    },
    {
     "data": {
      "image/png": "[encoded data removed]",
      "text/plain": [
       "<Figure size 432x288 with 1 Axes>"
      ]
     },
     "metadata": {
      "needs_background": "light"
     },
     "output_type": "display_data"
    }
   ],
   "source": [
    "categoria.plot.bar(color = 'red')"
   ]
  },
  {
   "cell_type": "code",
   "execution_count": 55,
   "id": "831fd1d0",
   "metadata": {
    "ExecuteTime": {
     "end_time": "2021-08-21T02:25:32.090101Z",
     "start_time": "2021-08-21T02:25:31.853619Z"
    }
   },
   "outputs": [
    {
     "name": "stderr",
     "output_type": "stream",
     "text": [
      "C:\\Users\\eder\\anaconda3\\lib\\site-packages\\seaborn\\_decorators.py:36: FutureWarning: Pass the following variable as a keyword arg: x. From version 0.12, the only valid positional argument will be `data`, and passing other arguments without an explicit keyword will result in an error or misinterpretation.\n",
      "  warnings.warn(\n"
     ]
    },
    {
     "data": {
      "text/plain": [
       "Text(0.5, 1.0, 'Umidade')"
      ]
     },
     "execution_count": 55,
     "metadata": {},
     "output_type": "execute_result"
    },
    {
     "data": {
      "image/png": "[encoded data removed]",
      "text/plain": [
       "<Figure size 432x288 with 1 Axes>"
      ]
     },
     "metadata": {
      "needs_background": "light"
     },
     "output_type": "display_data"
    }
   ],
   "source": [
    "srn.boxplot(df[col[2]]).set_title(col[2])"
   ]
  },
  {
   "cell_type": "markdown",
   "id": "4f3d9d83",
   "metadata": {},
   "source": [
    "### Ponto de ajuste"
   ]
  },
  {
   "cell_type": "markdown",
   "id": "133d25e8",
   "metadata": {},
   "source": [
    " - 200 é um valor inadmissível, cujo valor máximo é 100%"
   ]
  },
  {
   "cell_type": "markdown",
   "id": "bafe5cef",
   "metadata": {},
   "source": [
    "## Verificação da quarta coluna"
   ]
  },
  {
   "cell_type": "markdown",
   "id": "4e6b2e13",
   "metadata": {},
   "source": [
    "### nome da coluna"
   ]
  },
  {
   "cell_type": "code",
   "execution_count": 56,
   "id": "0e5bde32",
   "metadata": {
    "ExecuteTime": {
     "end_time": "2021-08-21T02:26:56.534703Z",
     "start_time": "2021-08-21T02:26:56.513718Z"
    }
   },
   "outputs": [
    {
     "data": {
      "text/plain": [
       "'Vento'"
      ]
     },
     "execution_count": 56,
     "metadata": {},
     "output_type": "execute_result"
    }
   ],
   "source": [
    "col[3]"
   ]
  },
  {
   "cell_type": "markdown",
   "id": "c0a8dfb8",
   "metadata": {},
   "source": [
    "### Categorização"
   ]
  },
  {
   "cell_type": "code",
   "execution_count": 57,
   "id": "72a799d4",
   "metadata": {
    "ExecuteTime": {
     "end_time": "2021-08-21T02:27:03.508221Z",
     "start_time": "2021-08-21T02:27:03.488216Z"
    }
   },
   "outputs": [],
   "source": [
    "categoria=  df.groupby([col[3]]).size()"
   ]
  },
  {
   "cell_type": "code",
   "execution_count": 58,
   "id": "5d809fc6",
   "metadata": {
    "ExecuteTime": {
     "end_time": "2021-08-21T02:27:07.042467Z",
     "start_time": "2021-08-21T02:27:06.807837Z"
    }
   },
   "outputs": [
    {
     "data": {
      "text/plain": [
       "<AxesSubplot:xlabel='Vento'>"
      ]
     },
     "execution_count": 58,
     "metadata": {},
     "output_type": "execute_result"
    },
    {
     "data": {
      "image/png": "[encoded data removed]",
      "text/plain": [
       "<Figure size 432x288 with 1 Axes>"
      ]
     },
     "metadata": {
      "needs_background": "light"
     },
     "output_type": "display_data"
    }
   ],
   "source": [
    "categoria.plot.bar(color = 'red')"
   ]
  },
  {
   "cell_type": "code",
   "execution_count": 58,
   "id": "a24eafdb",
   "metadata": {
    "ExecuteTime": {
     "end_time": "2021-08-21T02:27:07.042467Z",
     "start_time": "2021-08-21T02:27:06.807837Z"
    }
   },
   "outputs": [
    {
     "data": {
      "text/plain": [
       "<AxesSubplot:xlabel='Vento'>"
      ]
     },
     "execution_count": 58,
     "metadata": {},
     "output_type": "execute_result"
    },
    {
     "data": {
      "image/png": "[encoded data removed]",
      "text/plain": [
       "<Figure size 432x288 with 1 Axes>"
      ]
     },
     "metadata": {
      "needs_background": "light"
     },
     "output_type": "display_data"
    }
   ],
   "source": [
    "categoria.plot.bar(color = 'red')"
   ]
  },
  {
   "cell_type": "markdown",
   "id": "cbbba42d",
   "metadata": {},
   "source": [
    "## Verificação da quinta coluna"
   ]
  },
  {
   "cell_type": "markdown",
   "id": "7670f93b",
   "metadata": {},
   "source": [
    "### nome da coluna"
   ]
  },
  {
   "cell_type": "code",
   "execution_count": 59,
   "id": "d05f3066",
   "metadata": {
    "ExecuteTime": {
     "end_time": "2021-08-21T02:29:21.001741Z",
     "start_time": "2021-08-21T02:29:20.992726Z"
    }
   },
   "outputs": [
    {
     "data": {
      "text/plain": [
       "'Jogar'"
      ]
     },
     "execution_count": 59,
     "metadata": {},
     "output_type": "execute_result"
    }
   ],
   "source": [
    "col[4]"
   ]
  },
  {
   "cell_type": "markdown",
   "id": "ea4676a7",
   "metadata": {},
   "source": [
    "### Categorização"
   ]
  },
  {
   "cell_type": "code",
   "execution_count": 60,
   "id": "dd9981d6",
   "metadata": {
    "ExecuteTime": {
     "end_time": "2021-08-21T02:29:26.751456Z",
     "start_time": "2021-08-21T02:29:26.743461Z"
    }
   },
   "outputs": [],
   "source": [
    "categoria=  df.groupby([col[4]]).size()"
   ]
  },
  {
   "cell_type": "code",
   "execution_count": 61,
   "id": "10d76919",
   "metadata": {
    "ExecuteTime": {
     "end_time": "2021-08-21T02:29:30.363968Z",
     "start_time": "2021-08-21T02:29:30.157799Z"
    }
   },
   "outputs": [
    {
     "data": {
      "text/plain": [
       "<AxesSubplot:xlabel='Jogar'>"
      ]
     },
     "execution_count": 61,
     "metadata": {},
     "output_type": "execute_result"
    },
    {
     "data": {
      "image/png": "[encoded data removed]",
      "text/plain": [
       "<Figure size 432x288 with 1 Axes>"
      ]
     },
     "metadata": {
      "needs_background": "light"
     },
     "output_type": "display_data"
    }
   ],
   "source": [
    "categoria.plot.bar(color = 'red')"
   ]
  }
 ],
 "metadata": {
  "kernelspec": {
   "display_name": "Python 3",
   "language": "python",
   "name": "python3"
  },
  "language_info": {
   "codemirror_mode": {
    "name": "ipython",
    "version": 3
   },
   "file_extension": ".py",
   "mimetype": "text/x-python",
   "name": "python",
   "nbconvert_exporter": "python",
   "pygments_lexer": "ipython3",
   "version": "3.8.8"
  },
  "toc": {
   "base_numbering": 1,
   "nav_menu": {},
   "number_sections": true,
   "sideBar": true,
   "skip_h1_title": false,
   "title_cell": "Table of Contents",
   "title_sidebar": "Contents",
   "toc_cell": true,
   "toc_position": {
    "height": "calc(100% - 180px)",
    "left": "10px",
    "top": "150px",
    "width": "303.542px"
   },
   "toc_section_display": true,
   "toc_window_display": true
  },
  "varInspector": {
   "cols": {
    "lenName": 16,
    "lenType": 16,
    "lenVar": 40
   },
   "kernels_config": {
    "python": {
     "delete_cmd_postfix": "",
     "delete_cmd_prefix": "del ",
     "library": "var_list.py",
     "varRefreshCmd": "print(var_dic_list())"
    },
    "r": {
     "delete_cmd_postfix": ") ",
     "delete_cmd_prefix": "rm(",
     "library": "var_list.r",
     "varRefreshCmd": "cat(var_dic_list()) "
    }
   },
   "types_to_exclude": [
    "module",
    "function",
    "builtin_function_or_method",
    "instance",
    "_Feature"
   ],
   "window_display": false
  }
 },
 "nbformat": 4,
 "nbformat_minor": 5
}
