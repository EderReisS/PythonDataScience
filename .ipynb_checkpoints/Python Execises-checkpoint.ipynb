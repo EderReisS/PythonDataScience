{
 "cells": [
  {
   "cell_type": "markdown",
   "id": "f213f4d9",
   "metadata": {},
   "source": [
    "# Resolução de 10 execícios do pacote numpy "
   ]
  },
  {
   "cell_type": "markdown",
   "id": "c4aaa47d",
   "metadata": {},
   "source": [
    "## Verificação versão e congiguração do numpy e importação de seu nome como 'np'"
   ]
  },
  {
   "cell_type": "markdown",
   "id": "f9d4ea66",
   "metadata": {},
   "source": [
    "Importação como do pacote numpy como np"
   ]
  },
  {
   "cell_type": "code",
   "execution_count": 1,
   "id": "6723f950",
   "metadata": {
    "ExecuteTime": {
     "end_time": "2021-08-08T22:31:15.389481Z",
     "start_time": "2021-08-08T22:31:15.370493Z"
    }
   },
   "outputs": [],
   "source": [
    "import numpy as np"
   ]
  },
  {
   "cell_type": "markdown",
   "id": "55b5b38f",
   "metadata": {},
   "source": [
    "Verificação de versão"
   ]
  },
  {
   "cell_type": "code",
   "execution_count": 2,
   "id": "eb1d6b11",
   "metadata": {
    "ExecuteTime": {
     "end_time": "2021-08-08T22:32:44.250116Z",
     "start_time": "2021-08-08T22:32:44.235130Z"
    },
    "scrolled": false
   },
   "outputs": [
    {
     "name": "stdout",
     "output_type": "stream",
     "text": [
      "1.20.1\n",
      "blas_mkl_info:\n",
      "    libraries = ['mkl_rt']\n",
      "    library_dirs = ['C:/Users/eder/anaconda3\\\\Library\\\\lib']\n",
      "    define_macros = [('SCIPY_MKL_H', None), ('HAVE_CBLAS', None)]\n",
      "    include_dirs = ['C:/Users/eder/anaconda3\\\\Library\\\\include']\n",
      "blas_opt_info:\n",
      "    libraries = ['mkl_rt']\n",
      "    library_dirs = ['C:/Users/eder/anaconda3\\\\Library\\\\lib']\n",
      "    define_macros = [('SCIPY_MKL_H', None), ('HAVE_CBLAS', None)]\n",
      "    include_dirs = ['C:/Users/eder/anaconda3\\\\Library\\\\include']\n",
      "lapack_mkl_info:\n",
      "    libraries = ['mkl_rt']\n",
      "    library_dirs = ['C:/Users/eder/anaconda3\\\\Library\\\\lib']\n",
      "    define_macros = [('SCIPY_MKL_H', None), ('HAVE_CBLAS', None)]\n",
      "    include_dirs = ['C:/Users/eder/anaconda3\\\\Library\\\\include']\n",
      "lapack_opt_info:\n",
      "    libraries = ['mkl_rt']\n",
      "    library_dirs = ['C:/Users/eder/anaconda3\\\\Library\\\\lib']\n",
      "    define_macros = [('SCIPY_MKL_H', None), ('HAVE_CBLAS', None)]\n",
      "    include_dirs = ['C:/Users/eder/anaconda3\\\\Library\\\\include']\n"
     ]
    }
   ],
   "source": [
    "print(np.__version__)\n",
    "np.show_config()"
   ]
  },
  {
   "cell_type": "markdown",
   "id": "781cf796",
   "metadata": {
    "ExecuteTime": {
     "end_time": "2021-08-08T22:38:32.431888Z",
     "start_time": "2021-08-08T22:38:32.412901Z"
    }
   },
   "source": [
    "## Definição de vetor nulo de tamanho n"
   ]
  },
  {
   "cell_type": "code",
   "execution_count": 163,
   "id": "c7c6e943",
   "metadata": {
    "ExecuteTime": {
     "end_time": "2021-08-09T00:12:54.130840Z",
     "start_time": "2021-08-09T00:12:54.114836Z"
    }
   },
   "outputs": [
    {
     "name": "stdout",
     "output_type": "stream",
     "text": [
      "[0. 0. 0. 0. 0. 0.]\n"
     ]
    }
   ],
   "source": [
    "n=6\n",
    "M_zeros = np.zeros(n)\n",
    "print(M_zeros)"
   ]
  },
  {
   "cell_type": "markdown",
   "id": "d4d45164",
   "metadata": {},
   "source": [
    "## Criação de matriz identidade 2x2"
   ]
  },
  {
   "cell_type": "code",
   "execution_count": 4,
   "id": "946f2770",
   "metadata": {
    "ExecuteTime": {
     "end_time": "2021-08-08T22:49:42.525754Z",
     "start_time": "2021-08-08T22:49:42.440245Z"
    }
   },
   "outputs": [
    {
     "name": "stdout",
     "output_type": "stream",
     "text": [
      "[[1. 0.]\n",
      " [0. 1.]]\n"
     ]
    }
   ],
   "source": [
    "M_identidade=np.eye(2)\n",
    "print(M_identidade)"
   ]
  },
  {
   "cell_type": "markdown",
   "id": "c0c5401d",
   "metadata": {},
   "source": [
    "## Criando matriz 3x3 com valores aleatórios de 1 a 10"
   ]
  },
  {
   "cell_type": "code",
   "execution_count": 147,
   "id": "66222ee9",
   "metadata": {
    "ExecuteTime": {
     "end_time": "2021-08-08T23:52:40.979771Z",
     "start_time": "2021-08-08T23:52:40.964780Z"
    }
   },
   "outputs": [
    {
     "name": "stdout",
     "output_type": "stream",
     "text": [
      "[[6 9 9]\n",
      " [8 4 8]\n",
      " [7 9 9]]\n"
     ]
    }
   ],
   "source": [
    "M_1_a_10 = np.random.randint(1,11,9).reshape(3,3)\n",
    "print(M_1_a_10)"
   ]
  },
  {
   "cell_type": "markdown",
   "id": "b6cdf1be",
   "metadata": {},
   "source": [
    "## Transpor matrizes"
   ]
  },
  {
   "cell_type": "code",
   "execution_count": 148,
   "id": "ecc9ed5b",
   "metadata": {
    "ExecuteTime": {
     "end_time": "2021-08-08T23:52:43.349921Z",
     "start_time": "2021-08-08T23:52:43.338928Z"
    }
   },
   "outputs": [
    {
     "name": "stdout",
     "output_type": "stream",
     "text": [
      "[[6 8 7]\n",
      " [9 4 9]\n",
      " [9 8 9]]\n"
     ]
    }
   ],
   "source": [
    "M_t=M_1_a_10.T\n",
    "print(M_t)"
   ]
  },
  {
   "cell_type": "markdown",
   "id": "d8a1488c",
   "metadata": {},
   "source": [
    "## Inverter matrizes"
   ]
  },
  {
   "cell_type": "code",
   "execution_count": 150,
   "id": "4db3a833",
   "metadata": {
    "ExecuteTime": {
     "end_time": "2021-08-08T23:52:51.624222Z",
     "start_time": "2021-08-08T23:52:51.604233Z"
    }
   },
   "outputs": [
    {
     "name": "stdout",
     "output_type": "stream",
     "text": [
      "[[-1.00000000e+00 -2.77555756e-17  1.00000000e+00]\n",
      " [-4.44444444e-01 -2.50000000e-01  6.66666667e-01]\n",
      " [ 1.22222222e+00  2.50000000e-01 -1.33333333e+00]]\n"
     ]
    }
   ],
   "source": [
    "M_inv=np.linalg.inv(M_1_a_10)\n",
    "print(M_inv)"
   ]
  },
  {
   "cell_type": "markdown",
   "id": "b5a37bb1",
   "metadata": {},
   "source": [
    "## Produto matricial"
   ]
  },
  {
   "cell_type": "code",
   "execution_count": 151,
   "id": "5a7e354f",
   "metadata": {
    "ExecuteTime": {
     "end_time": "2021-08-08T23:52:55.200463Z",
     "start_time": "2021-08-08T23:52:55.194465Z"
    }
   },
   "outputs": [
    {
     "name": "stdout",
     "output_type": "stream",
     "text": [
      "[[1. 0. 0.]\n",
      " [0. 1. 0.]\n",
      " [0. 0. 1.]]\n"
     ]
    }
   ],
   "source": [
    "M_produto_identidade = np.dot(M_1_a_10,M_inv)\n",
    "print(np.around(M_produto_identidade))"
   ]
  },
  {
   "cell_type": "markdown",
   "id": "60d3f10f",
   "metadata": {},
   "source": [
    "## Resolução de sistema de equação linear 3x3"
   ]
  },
  {
   "cell_type": "markdown",
   "id": "8124268e",
   "metadata": {},
   "source": [
    "Sistema de equação:\n",
    "- (1):   6x1 + 9x2 + 9x3  = 1\n",
    "- (2):   8x1 + 4x2 + 8x3  = 2\n",
    "- (3):   7x1 + 9x2 + 9x3 = 3\n",
    "\n",
    "Utilizando o método das matrizes, temos:"
   ]
  },
  {
   "cell_type": "code",
   "execution_count": 160,
   "id": "136d4774",
   "metadata": {
    "ExecuteTime": {
     "end_time": "2021-08-09T00:00:01.007192Z",
     "start_time": "2021-08-09T00:00:00.984186Z"
    }
   },
   "outputs": [
    {
     "name": "stdout",
     "output_type": "stream",
     "text": [
      "matriz dos termos constantes \n",
      " [1 2 3]\n",
      "matriz dos coeficientes \n",
      " [[6 9 9]\n",
      " [8 4 8]\n",
      " [7 9 9]]\n",
      "matrizes das incógnitas \n",
      " [ 2.          1.05555556 -2.27777778]\n"
     ]
    }
   ],
   "source": [
    "B=np.arange(1,4)\n",
    "print(\"matriz dos termos constantes\",'\\n',B)\n",
    "print(\"matriz dos coeficientes\",\"\\n\",M_1_a_10)\n",
    "X = np.dot(M_inv,B)\n",
    "print(\"matrizes das incógnitas\",\"\\n\",X)"
   ]
  },
  {
   "cell_type": "markdown",
   "id": "dd1dad89",
   "metadata": {},
   "source": [
    "## Acumular elementos de diferentes elemento de vetores"
   ]
  },
  {
   "cell_type": "code",
   "execution_count": 203,
   "id": "046d086c",
   "metadata": {
    "ExecuteTime": {
     "end_time": "2021-08-09T00:37:45.943948Z",
     "start_time": "2021-08-09T00:37:45.935952Z"
    }
   },
   "outputs": [
    {
     "name": "stdout",
     "output_type": "stream",
     "text": [
      "Matriz acumuladas \n",
      " [ 2.          1.05555556 -2.27777778  0.          0.          0.\n",
      "  0.          0.          0.          1.          2.          3.        ]\n"
     ]
    }
   ],
   "source": [
    "Arr_acumulado =  np.concatenate((X, M_zeros,B))\n",
    "print(\"Matriz acumuladas \\n\",Arr_acumulado)"
   ]
  },
  {
   "cell_type": "markdown",
   "id": "a1806ac9",
   "metadata": {},
   "source": [
    "## Verificação de frequência exclusiva de elementos em um Vetor"
   ]
  },
  {
   "cell_type": "code",
   "execution_count": 207,
   "id": "db5038c3",
   "metadata": {
    "ExecuteTime": {
     "end_time": "2021-08-09T00:51:53.488093Z",
     "start_time": "2021-08-09T00:51:53.369449Z"
    }
   },
   "outputs": [
    {
     "name": "stdout",
     "output_type": "stream",
     "text": [
      "(array([-2.27777778,  0.        ,  1.        ,  1.05555556,  2.        ,\n",
      "        2.        ,  3.        ]), array([1, 6, 1, 1, 1, 1, 1], dtype=int64))\n"
     ]
    }
   ],
   "source": [
    "Fre_Arr_acumulado= np.unique(Arr_acumulado, return_counts=True)\n",
    "print(Fre_Arr_acumulado)\n"
   ]
  }
 ],
 "metadata": {
  "kernelspec": {
   "display_name": "Python 3",
   "language": "python",
   "name": "python3"
  },
  "language_info": {
   "codemirror_mode": {
    "name": "ipython",
    "version": 3
   },
   "file_extension": ".py",
   "mimetype": "text/x-python",
   "name": "python",
   "nbconvert_exporter": "python",
   "pygments_lexer": "ipython3",
   "version": "3.8.8"
  },
  "toc": {
   "base_numbering": 1,
   "nav_menu": {
    "height": "329px",
    "width": "234px"
   },
   "number_sections": true,
   "sideBar": true,
   "skip_h1_title": false,
   "title_cell": "Table of Contents",
   "title_sidebar": "Contents",
   "toc_cell": false,
   "toc_position": {
    "height": "calc(100% - 180px)",
    "left": "10px",
    "top": "150px",
    "width": "212.951px"
   },
   "toc_section_display": true,
   "toc_window_display": false
  },
  "varInspector": {
   "cols": {
    "lenName": 16,
    "lenType": 16,
    "lenVar": 40
   },
   "kernels_config": {
    "python": {
     "delete_cmd_postfix": "",
     "delete_cmd_prefix": "del ",
     "library": "var_list.py",
     "varRefreshCmd": "print(var_dic_list())"
    },
    "r": {
     "delete_cmd_postfix": ") ",
     "delete_cmd_prefix": "rm(",
     "library": "var_list.r",
     "varRefreshCmd": "cat(var_dic_list()) "
    }
   },
   "oldHeight": 122,
   "position": {
    "height": "144.219px",
    "left": "1096px",
    "right": "20px",
    "top": "119px",
    "width": "250px"
   },
   "types_to_exclude": [
    "module",
    "function",
    "builtin_function_or_method",
    "instance",
    "_Feature"
   ],
   "varInspector_section_display": "block",
   "window_display": false
  }
 },
 "nbformat": 4,
 "nbformat_minor": 5
}
