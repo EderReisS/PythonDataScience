{
 "cells": [
  {
   "cell_type": "code",
   "execution_count": 1,
   "id": "1537be7c",
   "metadata": {
    "ExecuteTime": {
     "end_time": "2021-09-18T21:29:35.235332Z",
     "start_time": "2021-09-18T21:29:35.192039Z"
    }
   },
   "outputs": [],
   "source": [
    "%config Completer.use_jedi = False"
   ]
  },
  {
   "cell_type": "markdown",
   "id": "0a26ddbc",
   "metadata": {},
   "source": [
    "# Faça um programa recebe uma frase, uma palavra antiga e uma palavra nova. A função deve retornar uma string contendo a frase original, mas com a última ocorrência da palavra antiga substituída pela palavra nova.\n",
    "Exemplo:\n",
    "    \n",
    "* Frase: “Quem parte e reparte fica com a maior parte”\n",
    "* Palavra antiga: “parte”\n",
    "* Palavra nova: “parcela”\n",
    "* Resultado a ser impresso no programa principal: “Quem parte e reparte fica com a maior parcela"
   ]
  },
  {
   "cell_type": "code",
   "execution_count": 11,
   "id": "f36e307b",
   "metadata": {
    "ExecuteTime": {
     "end_time": "2021-09-18T21:53:36.848796Z",
     "start_time": "2021-09-18T21:53:18.203518Z"
    }
   },
   "outputs": [
    {
     "name": "stdout",
     "output_type": "stream",
     "text": [
      "Por favor, digite a frase para realização de substituição: \n",
      "\n",
      "eu amo o amanhecer!\n",
      "Digite uma palavra presente na frase 'eu amo o amanhecer!' para ser subtituida: \n",
      "amo\n",
      "Digite a palavra que deseja substituir por amo: \n",
      "gosto\n",
      "\n",
      " eu gosto o amanhecer!\n"
     ]
    }
   ],
   "source": [
    "\n",
    "FRASE='Quem parte e reparte fica com a maior parte'\n",
    "PALAVRA= 'parte'\n",
    "\n",
    "PALAVRA_nova= 'parcela'\n",
    "FRASE_nova= ''\n",
    "\n",
    "def _ValidaPalavra(frase):\n",
    "    eh_valido=False \n",
    "    \n",
    "    while (not eh_valido):\n",
    "        palavra=input(f\"Digite uma palavra presente na frase '{frase}' para ser subtituida: \\n\")\n",
    "        \n",
    "        if (palavra in frase):\n",
    "            eh_valido=True\n",
    "        else:\n",
    "            print(\"Por favor digite uma palavra dentro de sua frase digitada.\")\n",
    "        \n",
    "        return palavra\n",
    "    \n",
    "\n",
    "\n",
    "\n",
    "FRASE_nova=FRASE.replace(PALAVRA_antiga,PALAVRA_nova)\n",
    "\n",
    "FRASE = input(\"Por favor, digite a frase para realização de substituição: \\n\\n\")\n",
    "\n",
    "PALAVRA = _ValidaPalavra(FRASE)\n",
    "PALAVRA_nova = input(f\"Digite a palavra que deseja substituir por {PALAVRA}: \\n\")\n",
    "\n",
    "FRASE_nova=FRASE.replace(PALAVRA,PALAVRA_nova)\n",
    "\n",
    "print('\\n',FRASE_nova)\n",
    "\n"
   ]
  },
  {
   "cell_type": "markdown",
   "id": "ad5f096a",
   "metadata": {},
   "source": [
    "# Faça um programa que recebe uma frase e retorna o número de palavras que a frase contém. Considere que a palavra pode começar e/ou terminar por espaços."
   ]
  },
  {
   "cell_type": "code",
   "execution_count": 18,
   "id": "6703f34a",
   "metadata": {
    "ExecuteTime": {
     "end_time": "2021-09-18T22:35:14.320672Z",
     "start_time": "2021-09-18T22:35:14.301321Z"
    }
   },
   "outputs": [
    {
     "name": "stdout",
     "output_type": "stream",
     "text": [
      "37\n"
     ]
    },
    {
     "data": {
      "text/plain": [
       "['Aqui,',\n",
       " 'a',\n",
       " 'turba',\n",
       " 'ímpia',\n",
       " 'de',\n",
       " 'carrascos,',\n",
       " 'insaciados,',\n",
       " 'matou',\n",
       " 'a',\n",
       " 'sede',\n",
       " 'violenta',\n",
       " 'de',\n",
       " 'sangue',\n",
       " 'inocente.',\n",
       " 'Agora',\n",
       " 'que',\n",
       " 'nossa',\n",
       " 'pátria',\n",
       " 'está',\n",
       " 'salva',\n",
       " 'e',\n",
       " 'o',\n",
       " 'antro',\n",
       " 'fúnebre',\n",
       " 'foi',\n",
       " 'demolido,',\n",
       " 'reina',\n",
       " 'a',\n",
       " 'vida',\n",
       " 'e',\n",
       " 'a',\n",
       " 'saúde',\n",
       " 'onde',\n",
       " 'reinava',\n",
       " 'a',\n",
       " 'cruel',\n",
       " 'morte.']"
      ]
     },
     "execution_count": 18,
     "metadata": {},
     "output_type": "execute_result"
    }
   ],
   "source": [
    "frase = \"Aqui, a turba ímpia de carrascos, insaciados, matou a sede violenta de sangue inocente. Agora que nossa pátria está salva e o antro fúnebre foi demolido, reina a vida e a saúde onde reinava a cruel morte.\"\n",
    "tamanho = len(frase.split())\n",
    "print(tamanho)\n",
    "frase.split()"
   ]
  },
  {
   "cell_type": "markdown",
   "id": "27db32fd",
   "metadata": {},
   "source": [
    "# Faça um programa que recebe uma frase e substitui todas as ocorrências de espaço por “#”."
   ]
  },
  {
   "cell_type": "code",
   "execution_count": 29,
   "id": "033d9377",
   "metadata": {
    "ExecuteTime": {
     "end_time": "2021-09-18T22:40:16.719687Z",
     "start_time": "2021-09-18T22:40:14.409306Z"
    }
   },
   "outputs": [
    {
     "name": "stdout",
     "output_type": "stream",
     "text": [
      "Digite aqui a frase:Aqui, a turba ímpia de carrascos, insaciados, matou a sede violenta de sangue inocente. Agora que nossa pátria está salva e o antro fúnebre foi demolido, reina a vida e a saúde onde reinava a cruel morte.\n",
      "\n",
      " Aqui,#a#turba#ímpia#de#carrascos,#insaciados,#matou#a#sede#violenta#de#sangue#inocente.#Agora#que#nossa#pátria#está#salva#e#o#antro#fúnebre#foi#demolido,#reina#a#vida#e#a#saúde#onde#reinava#a#cruel#morte.\n"
     ]
    }
   ],
   "source": [
    "frase=input(\"Digite aqui a frase:\")\n",
    "\n",
    "\n",
    "print('\\n','#'.join(frase.split()))"
   ]
  },
  {
   "cell_type": "markdown",
   "id": "1df1b7b9",
   "metadata": {},
   "source": [
    "# Um anagrama é uma palavra que é feita a partir da transposição das letras de outra palavra ou frase. Por exemplo, “Iracema” é um anagrama para “America”. Escreva um programa que decida se uma string é um anagrama de outra string, ignorando os espaços em branco. O programa deve considerar maiúsculas e minúsculas como sendo caracteres iguais, ou seja, “a” = “A”"
   ]
  },
  {
   "cell_type": "code",
   "execution_count": 97,
   "id": "30212497",
   "metadata": {
    "ExecuteTime": {
     "end_time": "2021-09-19T00:53:51.317617Z",
     "start_time": "2021-09-19T00:53:51.292077Z"
    }
   },
   "outputs": [
    {
     "name": "stdout",
     "output_type": "stream",
     "text": [
      "Não são anagramas as palavras 'grama' e ' teu mundo       '\n"
     ]
    }
   ],
   "source": [
    "palavra1='grama'\n",
    "palavra2=' teu mundo       '\n",
    "\n",
    "def _tratamento(palavra):\n",
    "    \n",
    "    palavra_tratada=sorted(list(palavra.lower().strip()))# miniscula as letras, tira vazios, faz a lista e então organizada de acordo critérios do sorted\n",
    "    \n",
    "    return palavra_tratada\n",
    "    \n",
    "\n",
    "palavra1_trat = _tratamento(palavra1)\n",
    "palavra2_trat = _tratamento(palavra2)\n",
    "\n",
    "eh_anagrama= (palavra1_trat==palavra2_trat)\n",
    "\n",
    "if eh_anagrama:\n",
    "    print(f\"São anagramas as palavras '{palavra1}' e '{palavra2}'\")\n",
    "else:\n",
    "    print(f\"Não são anagramas as palavras '{palavra1}' e '{palavra2}'\")\n",
    "    "
   ]
  },
  {
   "cell_type": "code",
   "execution_count": 88,
   "id": "722e8511",
   "metadata": {
    "ExecuteTime": {
     "end_time": "2021-09-19T00:51:30.898663Z",
     "start_time": "2021-09-19T00:51:30.889640Z"
    }
   },
   "outputs": [
    {
     "name": "stdout",
     "output_type": "stream",
     "text": [
      "None\n"
     ]
    }
   ],
   "source": [
    "a=list(palavra1.lower().strip()).sort()\n",
    "print(a)"
   ]
  },
  {
   "cell_type": "code",
   "execution_count": 96,
   "id": "512914ec",
   "metadata": {
    "ExecuteTime": {
     "end_time": "2021-09-19T00:53:26.420140Z",
     "start_time": "2021-09-19T00:53:26.405896Z"
    }
   },
   "outputs": [
    {
     "name": "stdout",
     "output_type": "stream",
     "text": [
      "None\n"
     ]
    }
   ],
   "source": [
    "print(list(palavra2.strip().lower()).sort())"
   ]
  }
 ],
 "metadata": {
  "kernelspec": {
   "display_name": "Python 3 (ipykernel)",
   "language": "python",
   "name": "python3"
  },
  "language_info": {
   "codemirror_mode": {
    "name": "ipython",
    "version": 3
   },
   "file_extension": ".py",
   "mimetype": "text/x-python",
   "name": "python",
   "nbconvert_exporter": "python",
   "pygments_lexer": "ipython3",
   "version": "3.9.5"
  },
  "toc": {
   "base_numbering": 1,
   "nav_menu": {},
   "number_sections": true,
   "sideBar": true,
   "skip_h1_title": false,
   "title_cell": "Table of Contents",
   "title_sidebar": "Contents",
   "toc_cell": false,
   "toc_position": {},
   "toc_section_display": true,
   "toc_window_display": true
  }
 },
 "nbformat": 4,
 "nbformat_minor": 5
}
